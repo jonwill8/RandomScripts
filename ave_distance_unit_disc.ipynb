{
 "cells": [
  {
   "cell_type": "markdown",
   "source": [
    "This script is used to find the average distance between two randomly chosen points in a unit circle.\n",
    "Inspiration Drawn from this [youtube video](https://www.youtube.com/watch?v=gCgE07fKQpY)"
   ],
   "metadata": {
    "collapsed": false
   }
  },
  {
   "cell_type": "code",
   "execution_count": 1,
   "outputs": [],
   "source": [
    "import numpy as np\n",
    "import random\n",
    "\n",
    "def gen_point_pair():\n",
    "    #generates our random point w/i the unit circle\n",
    "    x = random.uniform(-1,1)\n",
    "    y =  random.uniform(-(1-x**2),(1-x**2))\n",
    "    return [x,y]"
   ],
   "metadata": {
    "collapsed": false,
    "pycharm": {
     "name": "#%%\n"
    }
   }
  },
  {
   "cell_type": "code",
   "execution_count": 2,
   "outputs": [],
   "source": [
    "def find_ave_distance(num_point_pairs):\n",
    "    #generates point pairs and finds their average distance\n",
    "    distances = [find_points_distance(gen_point_pair(),gen_point_pair()) for _ in range(num_point_pairs)]\n",
    "    return np.mean(distances)"
   ],
   "metadata": {
    "collapsed": false,
    "pycharm": {
     "name": "#%%\n"
    }
   }
  },
  {
   "cell_type": "code",
   "execution_count": 3,
   "outputs": [],
   "source": [
    "import math\n",
    "def find_points_distance(p1,p2):\n",
    "    #finds the distance between the passed point pair\n",
    "    return math.sqrt((p2[0]-p1[0])**2 + ((p2[1]-p1[1])**2))"
   ],
   "metadata": {
    "collapsed": false,
    "pycharm": {
     "name": "#%%\n"
    }
   }
  },
  {
   "cell_type": "code",
   "execution_count": 4,
   "outputs": [
    {
     "name": "stdout",
     "output_type": "stream",
     "text": [
      "Average Distance using 10000000 points for simulation: 0.9089196158497436\n"
     ]
    },
    {
     "data": {
      "text/plain": "\"\\n#making graph of simulations using a number of point pars up to user bound\\ndistance_approxes = [find_ave_distance(num_p_pairs) for num_p_pairs in range(1,num_point_pairs+1)]\\nplt.plot(np.arange(num_point_pairs),distance_approxes)\\nplt.title('Average Distance in Unit Circle Simulations')\\nplt.xlabel('# of points used in simulation')\\nplt.ylabel('Average Distance')\\nplt.show()\\n\""
     },
     "execution_count": 4,
     "metadata": {},
     "output_type": "execute_result"
    }
   ],
   "source": [
    "import matplotlib.pyplot as plt\n",
    "num_point_pairs = int(input('Enter the # of point pairs you wish to use to simulate '\n",
    "                        'the average distance between 2 randomly chosen points in a unit circle'))\n",
    "\n",
    "print(f'Average Distance using {num_point_pairs} points for simulation: {find_ave_distance(num_point_pairs)}')\n",
    "\n",
    "\"\"\"\n",
    "#making graph of simulations using a number of point pars up to user bound\n",
    "distance_approxes = [find_ave_distance(num_p_pairs) for num_p_pairs in range(1,num_point_pairs+1)]\n",
    "plt.plot(np.arange(num_point_pairs),distance_approxes)\n",
    "plt.title('Average Distance in Unit Circle Simulations')\n",
    "plt.xlabel('# of points used in simulation')\n",
    "plt.ylabel('Average Distance')\n",
    "plt.show()\n",
    "\"\"\""
   ],
   "metadata": {
    "collapsed": false,
    "pycharm": {
     "name": "#%%\n"
    }
   }
  },
  {
   "cell_type": "markdown",
   "source": [
    "10 million point simulation answer of  0.909 is incredibly close to the analytical answer of 0.905\n",
    "\n"
   ],
   "metadata": {
    "collapsed": false,
    "pycharm": {
     "name": "#%% md\n"
    }
   }
  }
 ],
 "metadata": {
  "kernelspec": {
   "display_name": "Python 3",
   "language": "python",
   "name": "python3"
  },
  "language_info": {
   "codemirror_mode": {
    "name": "ipython",
    "version": 2
   },
   "file_extension": ".py",
   "mimetype": "text/x-python",
   "name": "python",
   "nbconvert_exporter": "python",
   "pygments_lexer": "ipython2",
   "version": "2.7.6"
  }
 },
 "nbformat": 4,
 "nbformat_minor": 0
}